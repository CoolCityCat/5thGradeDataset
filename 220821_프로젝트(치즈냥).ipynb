{
  "nbformat": 4,
  "nbformat_minor": 0,
  "metadata": {
    "colab": {
      "name": "220821_프로젝트(치즈냥).ipynb",
      "provenance": [],
      "collapsed_sections": [],
      "authorship_tag": "ABX9TyPLjC6TVKxUaYX7sivE1KGR",
      "include_colab_link": true
    },
    "kernelspec": {
      "name": "python3",
      "display_name": "Python 3"
    },
    "language_info": {
      "name": "python"
    }
  },
  "cells": [
    {
      "cell_type": "markdown",
      "metadata": {
        "id": "view-in-github",
        "colab_type": "text"
      },
      "source": [
        "<a href=\"https://colab.research.google.com/github/CoolCityCat/5thGradeDataset/blob/main/220821_%ED%94%84%EB%A1%9C%EC%A0%9D%ED%8A%B8(%EC%B9%98%EC%A6%88%EB%83%A5).ipynb\" target=\"_parent\"><img src=\"https://colab.research.google.com/assets/colab-badge.svg\" alt=\"Open In Colab\"/></a>"
      ]
    },
    {
      "cell_type": "markdown",
      "source": [
        "#[프로젝트 초안 작성하기]\n",
        "\n",
        "> ### 5학년 1학기 사회 인구분포 수업자료 만들기 \n",
        "\n",
        "*   프로젝트 주제 : 인구 데이터 활용하여 한 차시 분량의 수업 준비하기\n",
        "*   **선정 차시 : 5-1 사회  '우리나라의 인구 분포'**\n",
        "*   주제 선정 이유 :\n",
        "##### 1) 교과서에서 제공하는 인구 데이터(2015년)가 아닌 최신 데이터 활용\n",
        "##### 2) 학생들이 직접 다양한 지역의 인구분포를 탐구하도록 하여 학습 내용에 대한 흥미와 참여도 높이기\n",
        "##### 3) 정말 파이썬을 수업에 활용하여 학습 목표에 도달할 수 있을지 궁금해서...!\n"
      ],
      "metadata": {
        "id": "EEGyddisF9c9"
      }
    },
    {
      "cell_type": "code",
      "execution_count": 2,
      "metadata": {
        "id": "TzK6gBXiseHM",
        "colab": {
          "base_uri": "https://localhost:8080/"
        },
        "outputId": "0748d2ee-fa37-4a74-e7e7-adc02680c2db"
      },
      "outputs": [
        {
          "output_type": "stream",
          "name": "stdout",
          "text": [
            "Cloning into '5thGradeDataset'...\n",
            "remote: Enumerating objects: 19, done.\u001b[K\n",
            "remote: Counting objects: 100% (19/19), done.\u001b[K\n",
            "remote: Compressing objects: 100% (16/16), done.\u001b[K\n",
            "remote: Total 19 (delta 2), reused 0 (delta 0), pack-reused 0\u001b[K\n",
            "Unpacking objects: 100% (19/19), done.\n"
          ]
        }
      ],
      "source": [
        "!git clone https://github.com/CoolCityCat/5thGradeDataset"
      ]
    },
    {
      "cell_type": "code",
      "source": [
        "cd 5thGradeDataset"
      ],
      "metadata": {
        "id": "VrpxAwLxsh4Y",
        "colab": {
          "base_uri": "https://localhost:8080/"
        },
        "outputId": "227a7c6c-ec41-4f02-c1c3-ef0accf9818e"
      },
      "execution_count": 3,
      "outputs": [
        {
          "output_type": "stream",
          "name": "stdout",
          "text": [
            "/content/5thGradeDataset\n"
          ]
        }
      ]
    },
    {
      "cell_type": "code",
      "source": [
        "ls"
      ],
      "metadata": {
        "id": "cByWF8aWrq6V",
        "colab": {
          "base_uri": "https://localhost:8080/"
        },
        "outputId": "68ed20cc-4be4-4b07-e183-034607ea14a9"
      },
      "execution_count": 4,
      "outputs": [
        {
          "output_type": "stream",
          "name": "stdout",
          "text": [
            "age_gender2011.csv  age_gender2022.csv\n"
          ]
        }
      ]
    },
    {
      "cell_type": "code",
      "source": [
        "# 한글폰트 설치\n",
        "\n",
        "!apt-get install fonts-nanum -qq > /dev/null\n",
        "!fc-cache -fv\n",
        "import matplotlib as mpl\n",
        "mpl.font_manager._rebuild()\n",
        "findfont = mpl.font_manager.fontManager.findfont\n",
        "mpl.font_manager.findfont = findfont\n",
        "mpl.backends.backend_agg.findfont = findfont\n",
        "\n",
        "import matplotlib.pyplot as plt\n",
        "plt. rc('font', family = 'NanumGothic')\n",
        "plt.rcParams['axes.unicode_minus'] = False"
      ],
      "metadata": {
        "id": "xLQ7XrgtviWs",
        "colab": {
          "base_uri": "https://localhost:8080/"
        },
        "outputId": "a14bbab4-a7d5-4b28-efc6-e14a1ea3a508"
      },
      "execution_count": 9,
      "outputs": [
        {
          "output_type": "stream",
          "name": "stdout",
          "text": [
            "/usr/share/fonts: caching, new cache contents: 0 fonts, 1 dirs\n",
            "/usr/share/fonts/truetype: caching, new cache contents: 0 fonts, 3 dirs\n",
            "/usr/share/fonts/truetype/humor-sans: caching, new cache contents: 1 fonts, 0 dirs\n",
            "/usr/share/fonts/truetype/liberation: caching, new cache contents: 16 fonts, 0 dirs\n",
            "/usr/share/fonts/truetype/nanum: caching, new cache contents: 10 fonts, 0 dirs\n",
            "/usr/local/share/fonts: caching, new cache contents: 0 fonts, 0 dirs\n",
            "/root/.local/share/fonts: skipping, no such directory\n",
            "/root/.fonts: skipping, no such directory\n",
            "/var/cache/fontconfig: cleaning cache directory\n",
            "/root/.cache/fontconfig: not cleaning non-existent cache directory\n",
            "/root/.fontconfig: not cleaning non-existent cache directory\n",
            "fc-cache: succeeded\n"
          ]
        }
      ]
    },
    {
      "cell_type": "code",
      "source": [
        "import time\n",
        "import csv\n",
        "new_data = csv.reader(open('age_gender2022.csv'))\n",
        "old_data = csv.reader(open('age_gender2011.csv'))\n",
        "\n",
        "print('🔎인구분포를 알고 싶은 지역의 이름을 입력해주세요.') \n",
        "print('행정구역의 이름은 특별시, 특별자치시, 광역시, 도, 특별자치도, 시, 군, 구, 읍, 면, 동 중 하나를 골라 정확히 입력해주세요.')\n",
        "print('예시) 서초구, 세종특별자치시, 상도제1동, 애월읍 등')\n",
        "time.sleep(2)\n",
        "print('------------------------------------')\n",
        "time.sleep(1)\n",
        "grf_region = input('어느 지역의 인구분포를 나타낼까요? : ')\n",
        "print('------------------------------------')\n",
        "time.sleep(1)\n",
        "print('🤸📈' + grf_region + '의 인구분포를 열심히 찾아보고 있습니다...📉🤸‍♂️')\n",
        "time.sleep(1)\n",
        "print('------------------------------------')\n",
        "time.sleep(1)\n",
        "for row in new_data : \n",
        "    if grf_region in row[0] :\n",
        "        print('💡' + grf_region + '의 총 인구 수는 ' + str(int(row[1])+int(row[104])) + '명 입니다.')\n",
        "        print('------------------------------------')\n",
        "        print('여성 인구 : ' + row[104] + '명')\n",
        "        print('남성 인구 : ' + row[1] + '명')\n",
        "        if int(row[104]) > int(row[1]) :\n",
        "            print('여성 인구가 남성 인구보다 ' + str(int(row[104]) - int(row[1])) + '명 더 많습니다.')\n",
        "        elif int(row[104]) < int(row[1]) :\n",
        "            print('남성 인구가 여성 인구보다 ' + str(int(row[1]) - int(row[104])) + '명 더 많습니다.')\n",
        "        elif int(row[104]) == int(row[1]) :\n",
        "            print('남성 인구와 여성 인구의 수가 같습니다.')\n",
        "        gender = [int(row[104]),int(row[1])]\n",
        "        print('------------------------------------')\n",
        "        age1 = [0,0,0]\n",
        "        for i in range(3, 18) :\n",
        "            age1[0] = age1[0] + int(row[i]) + int(row[i+103])\n",
        "        for i in range(18, 68) :\n",
        "            age1[1] = age1[1] + int(row[i]) + int(row[i+103])\n",
        "        for i in range(68, 104) :\n",
        "            age1[2] = age1[2] + int(row[i]) + int(row[i+103])\n",
        "        label = ['유소년층 인구','청장년층 인구','노년층 인구']\n",
        "        for i in range(3) :\n",
        "            print(label[i] + ' : ' + str(age1[i]) + '명(약 ' + str(round((100*age1[i])/(int(row[1])+int(row[104])), 1)) + '%)')\n",
        "        break\n",
        "\n",
        "for row in old_data :\n",
        "    if grf_region in row[0] :\n",
        "        age2 = [0,0,0]\n",
        "        for i in range(3, 18) :\n",
        "            age2[0] = age2[0] + int(row[i]) + int(row[i+103])\n",
        "        for i in range(18, 68) :\n",
        "            age2[1] = age2[1] + int(row[i]) + int(row[i+103])\n",
        "        for i in range(68, 104) :\n",
        "            age2[2] = age2[2] + int(row[i]) + int(row[i+103])\n",
        "        break\n",
        "print('------------------------------------')\n",
        "\n",
        "import matplotlib.pyplot as plt\n",
        "plt.rc('font', family = 'NanumGothic')\n",
        "plt.title(grf_region + '의 성별 그래프(2022)')\n",
        "label = ['여','남']\n",
        "plt.pie(gender, labels = label, autopct = '%.1f%%', startangle = 90)\n",
        "plt.show()\n",
        "\n",
        "plt.title(grf_region + '의 연령 그래프')\n",
        "year = ['2011', '2022']\n",
        "youth = [age2[0],age1[0]]\n",
        "adult = [age2[1],age1[1]]\n",
        "youth_adult = [int(age2[0])+int(age2[1]), int(age1[0])+int(age1[1])]\n",
        "elder = [age2[2],age1[2]]\n",
        "w = 0.3\n",
        "plt.bar(year, youth, w, color = 'r')\n",
        "plt.bar(year, adult, w, bottom = youth, color = 'b')\n",
        "plt.bar(year, elder, w, bottom = youth_adult, color = 'y')\n",
        "plt.legend(['유소년층','청장년층','노년층'], bbox_to_anchor = (1,1))\n",
        "plt.show()"
      ],
      "metadata": {
        "id": "OLsI_5XhygmQ",
        "colab": {
          "base_uri": "https://localhost:8080/",
          "height": 852
        },
        "outputId": "106b52e8-b57a-41fe-b938-46fa3e1756ab"
      },
      "execution_count": 66,
      "outputs": [
        {
          "output_type": "stream",
          "name": "stdout",
          "text": [
            "🔎인구분포를 알고 싶은 지역의 이름을 입력해주세요.\n",
            "행정구역의 이름은 특별시, 특별자치시, 광역시, 도, 특별자치도, 시, 군, 구, 읍, 면, 동 중 하나를 골라 정확히 입력해주세요.\n",
            "예시) 서초구, 세종특별자치시, 상도제1동, 애월읍 등\n",
            "------------------------------------\n",
            "어느 지역의 인구분포를 나타낼까요? : 가경동\n",
            "------------------------------------\n",
            "🤸📈가경동의 인구분포를 열심히 찾아보고 있습니다...📉🤸‍♂️\n",
            "------------------------------------\n",
            "💡가경동의 총 인구 수는 55727명 입니다.\n",
            "------------------------------------\n",
            "여성 인구 : 28525명\n",
            "남성 인구 : 27202명\n",
            "여성 인구가 남성 인구보다 1323명 더 많습니다.\n",
            "------------------------------------\n",
            "유소년층 인구 : 7951명(약 14.3%)\n",
            "청장년층 인구 : 41776명(약 75.0%)\n",
            "노년층 인구 : 6000명(약 10.8%)\n",
            "------------------------------------\n"
          ]
        },
        {
          "output_type": "display_data",
          "data": {
            "text/plain": [
              "<Figure size 432x288 with 1 Axes>"
            ],
            "image/png": "[encoded data removed]"
          },
          "metadata": {}
        },
        {
          "output_type": "display_data",
          "data": {
            "text/plain": [
              "<Figure size 432x288 with 1 Axes>"
            ],
            "image/png": "[encoded data removed]"
          },
          "metadata": {
            "needs_background": "light"
          }
        }
      ]
    }
  ]
}